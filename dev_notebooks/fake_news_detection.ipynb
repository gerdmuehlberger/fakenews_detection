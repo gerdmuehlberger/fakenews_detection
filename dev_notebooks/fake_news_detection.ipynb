{
 "cells": [
  {
   "cell_type": "code",
   "execution_count": 1,
   "metadata": {},
   "outputs": [],
   "source": [
    "import pandas as pd\n",
    "import numpy as np\n",
    "import seaborn as sns\n",
    "import matplotlib.pyplot as plt\n",
    "from sklearn.model_selection import train_test_split\n",
    "from sklearn.metrics import accuracy_score\n",
    "from sklearn.metrics import classification_report\n",
    "import re\n",
    "import string\n",
    "\n"
   ]
  },
  {
   "cell_type": "code",
   "execution_count": 20,
   "metadata": {},
   "outputs": [],
   "source": [
    "df_true = pd.read_csv('../datasets/true.csv')\n",
    "df_fake = pd.read_csv('../datasets/fake.csv')\n",
    "\n",
    "# adding a class column to both dataframes\n",
    "df_fake['class'] = 0\n",
    "df_true['class'] = 1\n",
    "\n",
    "df_news = pd.concat([df_fake, df_true], axis=0)\n",
    "df_news = df_news.drop(['title', 'subject', 'date'], axis=1)\n",
    "\n",
    "#random suffling\n",
    "df_news = df_news.sample(frac=1)\n",
    "\n",
    "#re-indexing\n",
    "df_news.reset_index(inplace=True)\n",
    "df_news.drop(['index'], axis=1, inplace=True)"
   ]
  },
  {
   "cell_type": "code",
   "execution_count": null,
   "metadata": {},
   "outputs": [],
   "source": [
    "def "
   ]
  },
  {
   "cell_type": "code",
   "execution_count": null,
   "metadata": {},
   "outputs": [],
   "source": []
  }
 ],
 "metadata": {
  "kernelspec": {
   "display_name": "Python 3",
   "language": "python",
   "name": "python3"
  },
  "language_info": {
   "codemirror_mode": {
    "name": "ipython",
    "version": 3
   },
   "file_extension": ".py",
   "mimetype": "text/x-python",
   "name": "python",
   "nbconvert_exporter": "python",
   "pygments_lexer": "ipython3",
   "version": "3.10.12"
  }
 },
 "nbformat": 4,
 "nbformat_minor": 2
}
